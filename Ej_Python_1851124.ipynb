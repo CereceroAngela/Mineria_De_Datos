{
  "nbformat": 4,
  "nbformat_minor": 0,
  "metadata": {
    "colab": {
      "name": "Ej_Python_1851124.ipynb",
      "provenance": [],
      "collapsed_sections": [],
      "authorship_tag": "ABX9TyOVvNIOIYEvYOq36TLl6A6l",
      "include_colab_link": true
    },
    "kernelspec": {
      "name": "python3",
      "display_name": "Python 3"
    },
    "language_info": {
      "name": "python"
    }
  },
  "cells": [
    {
      "cell_type": "markdown",
      "metadata": {
        "id": "view-in-github",
        "colab_type": "text"
      },
      "source": [
        "<a href=\"https://colab.research.google.com/github/CereceroAngela/Mineria_De_Datos/blob/main/Ej_Python_1851124.ipynb\" target=\"_parent\"><img src=\"https://colab.research.google.com/assets/colab-badge.svg\" alt=\"Open In Colab\"/></a>"
      ]
    },
    {
      "cell_type": "markdown",
      "metadata": {
        "id": "XFzheq1kpZ4Z"
      },
      "source": [
        "Ejercicio 1:\n",
        "Realiza una variable con tu matricula y realiza una secuencia de imprimir con tu nombre y tu matricula concatenados."
      ]
    },
    {
      "cell_type": "code",
      "metadata": {
        "colab": {
          "base_uri": "https://localhost:8080/"
        },
        "id": "p4Sw0yENpevR",
        "outputId": "406251d7-986d-4f27-bed2-75255608feb6"
      },
      "source": [
        "mat = \"1851124\"\n",
        "nombre = 'Angela '\n",
        "nom_mat = nombre + mat\n",
        "print(nom_mat)\n"
      ],
      "execution_count": 39,
      "outputs": [
        {
          "output_type": "stream",
          "text": [
            "Angela 1851124\n"
          ],
          "name": "stdout"
        }
      ]
    },
    {
      "cell_type": "markdown",
      "metadata": {
        "id": "oQGi5mnzpfKf"
      },
      "source": [
        "\n",
        "Ejercicio 2:\n",
        "Pidiendo el input del usuario pide dos números y crea una pequeña calculadora con los operadores básicos de suma, resta, multiplicación, división, y exponente.\n",
        "\n",
        "Utilizando el loop de while"
      ]
    },
    {
      "cell_type": "code",
      "metadata": {
        "colab": {
          "base_uri": "https://localhost:8080/"
        },
        "id": "9AzJfIH8piPf",
        "outputId": "5663ea15-12fa-4c93-939a-321cb69c623e"
      },
      "source": [
        "print(\"Inserte dos numeros\")\n",
        "num1 = int(input())\n",
        "num2 = int(input())\n",
        "print(f\"Suma = {num1 + num2}\")\n",
        "print(f\"Resta = {num1 - num2}\")\n",
        "print(f\"Multiplicación = {num1 * num2}\")\n",
        "print(f\"División = {num1 / num2}\")\n",
        "print(f\"Exponente = {num1 ** num2}\")"
      ],
      "execution_count": null,
      "outputs": [
        {
          "output_type": "stream",
          "text": [
            "Inserte dos numeros\n",
            "2\n",
            "3\n",
            "Suma = 5\n",
            "Resta = -1\n",
            "Multiplicación = 6\n",
            "División = 0.6666666666666666\n",
            "Exponente = 8\n"
          ],
          "name": "stdout"
        }
      ]
    },
    {
      "cell_type": "markdown",
      "metadata": {
        "id": "Q7ePo1k1pika"
      },
      "source": [
        "\n",
        "Ejercicio 3:\n",
        "Con loop while o for, realiza una lista de 10 numeros multiplos de 3, y después realiza una función de loop que sume todos los números dentro del arreglo."
      ]
    },
    {
      "cell_type": "code",
      "metadata": {
        "colab": {
          "base_uri": "https://localhost:8080/"
        },
        "id": "d6UWokE7plbI",
        "outputId": "decb74e2-157a-4249-9004-c61a53414cbc"
      },
      "source": [
        "lista=[0,0,0,0,0,0,0,0,0,0]\n",
        "for i in range(0,10):\n",
        "  lista[i] = (i+1)*3\n",
        "print(lista)\n",
        "\n",
        "suma=0\n",
        "for i in range(0,10):\n",
        "  suma=suma+lista[i]\n",
        "print(\"La suma de todo el arreglo es:\",suma)\n"
      ],
      "execution_count": null,
      "outputs": [
        {
          "output_type": "stream",
          "text": [
            "[3, 6, 9, 12, 15, 18, 21, 24, 27, 30]\n",
            "La suma de todo el arreglo es: 165\n"
          ],
          "name": "stdout"
        }
      ]
    },
    {
      "cell_type": "markdown",
      "metadata": {
        "id": "_OlzpFJiplhi"
      },
      "source": [
        "\n",
        "Ejercicio 4\n",
        "Con una función de if else, revisar si un número es par o es impar.\n",
        "Con una función de if else, revisar si un número es primo o no."
      ]
    },
    {
      "cell_type": "code",
      "metadata": {
        "colab": {
          "base_uri": "https://localhost:8080/"
        },
        "id": "XjRLurJTppEH",
        "outputId": "69ce815d-5f98-49c1-dead-c3ed8b1a03b3"
      },
      "source": [
        "print(\"Inserte un numero\")\n",
        "num1 = int(input())\n",
        "if(num1%2 == 0):\n",
        "    print(\"El numero es par\")\n",
        "else:\n",
        "    print(\"El numero es impar\")"
      ],
      "execution_count": null,
      "outputs": [
        {
          "output_type": "stream",
          "text": [
            "Inserte un numero\n",
            "3\n",
            "El numero es impar\n"
          ],
          "name": "stdout"
        }
      ]
    },
    {
      "cell_type": "code",
      "metadata": {
        "colab": {
          "base_uri": "https://localhost:8080/"
        },
        "id": "4NcXqcQivCIP",
        "outputId": "f8af139f-8c18-4e00-c2ba-26be35d7c400"
      },
      "source": [
        "\n",
        "print(\"Inserte un numero\")\n",
        "num1 = int(input())\n",
        "for i in range(2,num1):\n",
        "  if num1%i==0:\n",
        "    print(\"No es primo,\",i,\"es divisor\")\n",
        "    break\n",
        "  else:\n",
        "    print(\"Es primo\")\n",
        "    break\n",
        "#Numeros primos https://ellibrodepython.com/numeros-primos-python"
      ],
      "execution_count": null,
      "outputs": [
        {
          "output_type": "stream",
          "text": [
            "Inserte un numero\n",
            "17\n",
            "Es primo\n"
          ],
          "name": "stdout"
        }
      ]
    },
    {
      "cell_type": "markdown",
      "metadata": {
        "id": "HqLdIz3EppOA"
      },
      "source": [
        "\n",
        "Ejercicio 5\n",
        "Utilizando diferentes clases en python, crea una calculadora con los operadores básicos de suma, resta, multiplicación, división, y exponente."
      ]
    },
    {
      "cell_type": "code",
      "metadata": {
        "colab": {
          "base_uri": "https://localhost:8080/"
        },
        "id": "vUZ-CDJSprg9",
        "outputId": "34a64123-3fc2-427f-9b23-3382dd38d31e"
      },
      "source": [
        "def Menu():\n",
        "    \"\"\"Funcion que Muestra el Menu\"\"\"\n",
        "print(\"\"\"\n",
        "Calculadora\n",
        "1) Suma\n",
        "2) Resta\n",
        "3) Multiplicacion\n",
        "4) Division\n",
        "5) Salir \n",
        "\"\"\")\n",
        "\n",
        "def Calculadora():\n",
        "    \"\"\"Funcion Para Calcular Operaciones Aritmeticas\"\"\"\n",
        "    Menu()\n",
        "    opc = int(input(\"Selecione Opcion\\n\"))\n",
        "    while (opc >0 and opc <5):\n",
        "        x = int(input(\"Ingrese Numero\\n\"))\n",
        "        y = int(input(\"Ingrese Otro Numero\\n\"))\n",
        "        if (opc==1):\n",
        "            print(\"La Suma es:\", x+y)\n",
        "            opc = int(input(\"Selecione Opcion\\n\"))\n",
        "        elif(opc==2):\n",
        "            print(\"La Resta es:\",x-y)\n",
        "            opc = int(input(\"Selecione Opcion\\n\"))\n",
        "        elif(opc==3):\n",
        "            print(\"La Multiplicacion es:\",x*y)\n",
        "            opc = int(input(\"Selecione Opcion\\n\"))\n",
        "        elif(opc==4):\n",
        "            try:\n",
        "              print(\"La Division es:\", x/y)\n",
        "              opc = int(input(\"Selecione Opcion\\n\"))\n",
        "            except ZeroDivisionError:\n",
        "              print(\"No se Permite la Division Entre 0\")\n",
        "              opc = int(input(\"Selecione Opcion\\n\"))\n",
        "Calculadora()\n",
        "\n",
        "#Calculadora https://www.lawebdelprogramador.com/codigo/Python/3188-Calculadora.html"
      ],
      "execution_count": null,
      "outputs": [
        {
          "output_type": "stream",
          "text": [
            "\n",
            "Calculadora\n",
            "1) Suma\n",
            "2) Resta\n",
            "3) Multiplicacion\n",
            "4) Division\n",
            "5) Salir \n",
            "\n",
            "Selecione Opcion\n",
            "2\n",
            "Ingrese Numero\n",
            "2\n",
            "Ingrese Otro Numero\n",
            "3\n",
            "La Resta es: -1\n",
            "Selecione Opcion\n",
            "3\n",
            "Ingrese Numero\n",
            "5\n",
            "Ingrese Otro Numero\n",
            "3\n",
            "La Multiplicacion es: 15\n",
            "Selecione Opcion\n",
            "5\n"
          ],
          "name": "stdout"
        }
      ]
    },
    {
      "cell_type": "markdown",
      "metadata": {
        "id": "GJtrmr2NPm0A"
      },
      "source": [
        "Tuplas\n",
        "\n",
        "Crear una variable flotante, integer, boleana y compleja e imprimir el tipo de variable que es."
      ]
    },
    {
      "cell_type": "code",
      "metadata": {
        "id": "6yMNfccePntr",
        "colab": {
          "base_uri": "https://localhost:8080/"
        },
        "outputId": "845e7854-1585-4615-acd4-2bbe810e98f8"
      },
      "source": [
        "x = 2.5\n",
        "y = 5\n",
        "z = True\n",
        "w = 1+1j\n",
        "print(type(x))\n",
        "print(type(y))\n",
        "print(type(z))\n",
        "print(type(w))"
      ],
      "execution_count": null,
      "outputs": [
        {
          "output_type": "stream",
          "text": [
            "<class 'float'>\n",
            "<class 'int'>\n",
            "<class 'bool'>\n",
            "<class 'complex'>\n"
          ],
          "name": "stdout"
        }
      ]
    },
    {
      "cell_type": "markdown",
      "metadata": {
        "id": "TtKsYXMfy88V"
      },
      "source": [
        "Crear una tupla con valores enteros imprimir el primer y ultimo valor."
      ]
    },
    {
      "cell_type": "code",
      "metadata": {
        "id": "K3GNEbAVzCCy",
        "colab": {
          "base_uri": "https://localhost:8080/"
        },
        "outputId": "ffdd8ba1-b46b-40de-cbb5-a0bc0d9f2fb9"
      },
      "source": [
        "tupla=(1,2,3,4,5)\n",
        "print(\"Primer valor:\",tupla[0])\n",
        "print(\"Ultimo valor:\",tupla[-1])"
      ],
      "execution_count": null,
      "outputs": [
        {
          "output_type": "stream",
          "text": [
            "Primer valor: 1\n",
            "Ultimo valor: 5\n"
          ],
          "name": "stdout"
        }
      ]
    },
    {
      "cell_type": "markdown",
      "metadata": {
        "id": "OvuqeN_GzCQh"
      },
      "source": [
        "Añadir 3 valores de string a la tupla."
      ]
    },
    {
      "cell_type": "code",
      "metadata": {
        "id": "0s1BV5xYzCey",
        "colab": {
          "base_uri": "https://localhost:8080/"
        },
        "outputId": "1b72bc25-0e8f-4fc8-9fbd-a5fd961288cd"
      },
      "source": [
        "tupla1=(1,2,3,4,5)\n",
        "print(\"Tupla 1:\", tupla1)\n",
        "tupla2=(\"Hola\", \"esto es\", \"una dupla\")\n",
        "print(\"Tupla 2:\", tupla2)\n",
        "tupla3 = tupla1 + tupla2\n",
        "print(\"Tupla 3:\", tupla3)\n"
      ],
      "execution_count": null,
      "outputs": [
        {
          "output_type": "stream",
          "text": [
            "Tupla 1: (1, 2, 3, 4, 5)\n",
            "Tupla 2: ('Hola', 'esto es', 'una dupla')\n",
            "Tupla 3: (1, 2, 3, 4, 5, 'Hola', 'esto es', 'una dupla')\n"
          ],
          "name": "stdout"
        }
      ]
    },
    {
      "cell_type": "markdown",
      "metadata": {
        "id": "Kus4rhLTzNXL"
      },
      "source": [
        "Verificar si una variable existe dentro de la tupla."
      ]
    },
    {
      "cell_type": "code",
      "metadata": {
        "id": "MpQfvSfjzN3-",
        "colab": {
          "base_uri": "https://localhost:8080/"
        },
        "outputId": "56a89040-96c0-4507-8b6c-6ed015809906"
      },
      "source": [
        "tupla = (1,2,3,4,5)\n",
        "4 in tupla"
      ],
      "execution_count": null,
      "outputs": [
        {
          "output_type": "execute_result",
          "data": {
            "text/plain": [
              "True"
            ]
          },
          "metadata": {},
          "execution_count": 15
        }
      ]
    },
    {
      "cell_type": "markdown",
      "metadata": {
        "id": "DH0DNcYpFsaL"
      },
      "source": [
        "Listas\n",
        "\n",
        "*Crear una lista con 40 elementos aleatorios enteros.\n",
        "\n",
        "*Con una funcion (def) crear dos listas nuevas a partir de la lista creada por numeros aleatorios, en la cual en una esten los elementos pares, y en la otra los elementos impares.\n",
        "\n",
        "*Crear dos variables con la longitud de ambas listas nuevas e imprimir las variables.\n",
        "\n",
        "*Ordenar los elementos de la lista par de mayor a menor, y los de la lista impar de menor a mayor."
      ]
    },
    {
      "cell_type": "code",
      "metadata": {
        "colab": {
          "base_uri": "https://localhost:8080/"
        },
        "id": "Se7AhU7baHkO",
        "outputId": "77774571-0cf5-4d64-c54c-5758a86a04ad"
      },
      "source": [
        "import random\n",
        "print(\"Inserte el límite inferior y superior de los numeros aleatorios\")\n",
        "num1 = int(input())\n",
        "num2 = int(input())\n",
        "#Crear lista de numeros aleatorios\n",
        "lista=[0,0,0,0,0,0,0,0,0,0,0,0,0,0,0,0,0,0,0,0,0,0,0,0,0,0,0,0,0,0,0,0,0,0,0,0,0,0,0,0,]\n",
        "for i in range(40):\n",
        "  lista[i] = random.randint(num1,num2)\n",
        "print(\"Lista aleatoria:\",lista)\n",
        "# Numeros aleatorios https://j2logo.com/python/generar-numeros-aleatorios-en-python/\n",
        "\n",
        "#crear 2 listas con funciones y dividir pares e impares\n",
        "def listas(lista1):\n",
        "  lista2=[]\n",
        "  lista3=[]\n",
        "  for i in range(len(lista1)):\n",
        "    if((lista1[i])%2==0):\n",
        "      lista2.append(lista1[i])\n",
        "    else:\n",
        "      lista3.append(lista1[i])\n",
        " \n",
        " #longitud de listas nuevas\n",
        "  x = len(lista2)\n",
        "  y = len(lista3)\n",
        "  print(\"Numeros pares:\",lista2)\n",
        "  print(\"Numeros impares:\",lista3)\n",
        "  print(\"Longitud lista numeros pares:\", x)\n",
        "  print(\"Longitud lista numeros impares:\", y)\n",
        "  #ordenar\n",
        "  lista4 = sorted(lista2, reverse=True)\n",
        "  lista5 = sorted(lista3)\n",
        "  print(\"Lista de pares ordenada de mayor a menor:\", lista4)\n",
        "  print(\"Lista de impares ordenada de menor a mayor:\", lista5)\n",
        "listas(lista)\n",
        "\n",
        "#funciones https://entrenamiento-python-basico.readthedocs.io/es/latest/leccion5/funciones.html\n",
        "#append https://www.freecodecamp.org/espanol/news/python-tutorial-de-lista-vacia-como-crear-y-comprobar-una-lista-vacia-en-python/\n",
        "#append https://docs.python.org/es/3/tutorial/datastructures.html+\n",
        "\n",
        "#ordenar listas https://uniwebsidad.com/libros/algoritmos-python/capitulo-7/ordenar-listas\n",
        "#orednar listas https://j2logo.com/python/ordenar-una-lista-en-python/"
      ],
      "execution_count": null,
      "outputs": [
        {
          "output_type": "stream",
          "text": [
            "Inserte el límite inferior y superior de los numeros aleatorios\n",
            "1\n",
            "100\n",
            "Lista aleatoria: [46, 45, 3, 50, 42, 26, 47, 51, 99, 86, 12, 22, 79, 100, 87, 85, 53, 52, 70, 79, 14, 13, 56, 28, 61, 99, 97, 95, 51, 33, 3, 21, 38, 8, 17, 37, 82, 30, 80, 11]\n",
            "Numeros pares: [46, 50, 42, 26, 86, 12, 22, 100, 52, 70, 14, 56, 28, 38, 8, 82, 30, 80]\n",
            "Numeros impares: [45, 3, 47, 51, 99, 79, 87, 85, 53, 79, 13, 61, 99, 97, 95, 51, 33, 3, 21, 17, 37, 11]\n",
            "Longitud lista numeros pares: 18\n",
            "Longitud lista numeros impares: 22\n",
            "Lista de pares ordenada de mayor a menor: [100, 86, 82, 80, 70, 56, 52, 50, 46, 42, 38, 30, 28, 26, 22, 14, 12, 8]\n",
            "Lista de impares ordenada de menor a mayor: [3, 3, 11, 13, 17, 21, 33, 37, 45, 47, 51, 51, 53, 61, 79, 79, 85, 87, 95, 97, 99, 99]\n"
          ],
          "name": "stdout"
        }
      ]
    },
    {
      "cell_type": "markdown",
      "metadata": {
        "id": "nkDjL1DYZxf2"
      },
      "source": [
        "Utilizar al menos cuatro de las funciones de listas en python en la lista original de 40 elementos."
      ]
    },
    {
      "cell_type": "code",
      "metadata": {
        "colab": {
          "base_uri": "https://localhost:8080/"
        },
        "id": "OJuvtyVtZxlm",
        "outputId": "8168458a-2ffb-4b91-92ea-aeb6bc76421c"
      },
      "source": [
        "nueva_lista = lista #para no modificar la original directamente\n",
        "print(\"Lista original:\",nueva_lista)\n",
        "\n",
        "#remove\n",
        "nueva_lista.remove(46)\n",
        "print(\"Lista con remove:\",nueva_lista)\n",
        "\n",
        "#reverse\n",
        "nueva_lista.reverse()\n",
        "print(\"Lista en reversa:\",nueva_lista)\n",
        "\n",
        "#insert\n",
        "nueva_lista.insert(0,1000)\n",
        "print(\"Lista insertando un valor:\",nueva_lista)\n",
        "\n",
        "#append\n",
        "nueva_lista.append(2000)\n",
        "print(\"Lista agregando un elemento:\",nueva_lista)\n",
        "\n",
        "#LIBRO\n",
        "# https://uniwebsidad.com/libros/python/capitulo-7/metodos-de-agregado"
      ],
      "execution_count": null,
      "outputs": [
        {
          "output_type": "stream",
          "text": [
            "Lista original: [46, 45, 3, 50, 42, 26, 47, 51, 99, 86, 12, 22, 79, 100, 87, 85, 53, 52, 70, 79, 14, 13, 56, 28, 61, 99, 97, 95, 51, 33, 3, 21, 38, 8, 17, 37, 82, 30, 80, 11]\n",
            "Lista con remove: [45, 3, 50, 42, 26, 47, 51, 99, 86, 12, 22, 79, 100, 87, 85, 53, 52, 70, 79, 14, 13, 56, 28, 61, 99, 97, 95, 51, 33, 3, 21, 38, 8, 17, 37, 82, 30, 80, 11]\n",
            "Lista en reversa: [11, 80, 30, 82, 37, 17, 8, 38, 21, 3, 33, 51, 95, 97, 99, 61, 28, 56, 13, 14, 79, 70, 52, 53, 85, 87, 100, 79, 22, 12, 86, 99, 51, 47, 26, 42, 50, 3, 45]\n",
            "Lista insertando un valor: [1000, 11, 80, 30, 82, 37, 17, 8, 38, 21, 3, 33, 51, 95, 97, 99, 61, 28, 56, 13, 14, 79, 70, 52, 53, 85, 87, 100, 79, 22, 12, 86, 99, 51, 47, 26, 42, 50, 3, 45]\n",
            "Lista agregando un elemento: [1000, 11, 80, 30, 82, 37, 17, 8, 38, 21, 3, 33, 51, 95, 97, 99, 61, 28, 56, 13, 14, 79, 70, 52, 53, 85, 87, 100, 79, 22, 12, 86, 99, 51, 47, 26, 42, 50, 3, 45, 2000]\n"
          ],
          "name": "stdout"
        }
      ]
    },
    {
      "cell_type": "markdown",
      "metadata": {
        "id": "A9HDAOOBZxwF"
      },
      "source": [
        "Diccionarios\n",
        "\n",
        "Crear un diccionario de 6 personas que conozcas con su primer nombre y su edad.\n",
        "\n",
        "Crear una lista con los valores de la edad y reacomodar la lista de menor a mayor valor.\n",
        "\n",
        "Usando el diccionario y un loop, imprimir solo los nombres.\n",
        "\n",
        "Añadir dos personas nuevas a tu diccionario, incluyendo edad."
      ]
    },
    {
      "cell_type": "code",
      "metadata": {
        "id": "Vk5vFQeHZx3D",
        "colab": {
          "base_uri": "https://localhost:8080/"
        },
        "outputId": "f1edbf80-14b6-4833-9012-b17dd4d9b2ef"
      },
      "source": [
        "dic = {'Angela':20, 'Adrian':19, 'Abraham':19, 'Mauro':24, 'Alexa':15, 'Yordan':11}\n",
        "lista_dic = list(dic.values())\n",
        "print(\"Lista de edades:\",lista_dic)\n",
        "\n",
        "#edades ordenadas\n",
        "lista_ord = sorted(lista_dic)\n",
        "print(\"Lista de edades ordenada de menor a mayor valor:\",lista_ord)\n",
        "\n",
        "#imprimir solo nombres\n",
        "print(\"Nombres:\")\n",
        "for k in dic.keys():\n",
        "  print(k)\n",
        "#imprimir nombres y agregar https://j2logo.com/python/tutorial/tipo-dict-python/#:~:text=tres'%2C%203)-,A%C3%B1adir%20elementos%20a%20un%20diccionario%20en%20Python,usa%20el%20operador%20de%20asignaci%C3%B3n%20%3D%20.\n",
        "\n",
        "#agregar\n",
        "dic['Isabel']=20\n",
        "dic['Diana']=20\n",
        "print(dic)"
      ],
      "execution_count": 15,
      "outputs": [
        {
          "output_type": "stream",
          "text": [
            "Lista de edades: [20, 19, 19, 24, 15, 11]\n",
            "Lista de edades ordenada de menor a mayor valor: [11, 15, 19, 19, 20, 24]\n",
            "Nombres:\n",
            "Angela\n",
            "Adrian\n",
            "Abraham\n",
            "Mauro\n",
            "Alexa\n",
            "Yordan\n",
            "{'Angela': 20, 'Adrian': 19, 'Abraham': 19, 'Mauro': 24, 'Alexa': 15, 'Yordan': 11, 'Isabel': 20, 'Diana': 20}\n"
          ],
          "name": "stdout"
        }
      ]
    },
    {
      "cell_type": "markdown",
      "metadata": {
        "id": "jZr0di3yZ_WW"
      },
      "source": [
        "Sets\n",
        "\n",
        "Crea un set con 100 numeros aleatorios enteros del 1 al 25.\n",
        "\n",
        "Comprueba la longitud de tu set.\n",
        "\n",
        "Crea una lista de 5 numeros aleatorios del 1 al 10 y comprueba si cada valor aparece en el set inicial."
      ]
    },
    {
      "cell_type": "code",
      "metadata": {
        "id": "qQ5VVzgzZ_cv",
        "colab": {
          "base_uri": "https://localhost:8080/"
        },
        "outputId": "7733682d-a593-495a-a826-ea9e61285459"
      },
      "source": [
        "import random\n",
        "#crear set con numeros aleatorios\n",
        "set1 = set()\n",
        "for i in range(100):\n",
        "  set1.add(random.randint(1,25))\n",
        "\n",
        "print(\"Set:\", set1)\n",
        "\n",
        "#longitud del set\n",
        "print(\"Longitud del set:\",len(set1))\n",
        "\n",
        "#Numeros alateorios del 1 al 10\n",
        "lista=[0,0,0,0,0]\n",
        "for i in range(5):\n",
        "  lista[i] = random.randint(1,10)\n",
        "\n",
        "print(\"Lista de numeros aleatorios entre 1 y 10:\",lista)\n",
        "\n",
        "for i in range(5):\n",
        "  if ((lista[i] in set1) == True):\n",
        "    print(lista[i],\"se encuentra en el set\")\n",
        "  else:\n",
        "    print(lista[i],\"no se encuentra en el set\")\n",
        "\n",
        "# sets https://j2logo.com/python/tutorial/tipo-set-python/"
      ],
      "execution_count": 37,
      "outputs": [
        {
          "output_type": "stream",
          "text": [
            "Set: {1, 2, 3, 4, 5, 6, 7, 8, 9, 10, 11, 12, 13, 14, 15, 16, 17, 18, 20, 21, 22, 23, 24, 25}\n",
            "Longitud del set: 24\n",
            "Lista de numeros aleatorios entre 1 y 10: [9, 3, 1, 2, 9]\n",
            "9 se encuentra en el set\n",
            "3 se encuentra en el set\n",
            "1 se encuentra en el set\n",
            "2 se encuentra en el set\n",
            "9 se encuentra en el set\n"
          ],
          "name": "stdout"
        }
      ]
    }
  ]
}